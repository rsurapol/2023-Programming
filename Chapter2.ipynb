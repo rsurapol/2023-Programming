{
  "nbformat": 4,
  "nbformat_minor": 0,
  "metadata": {
    "colab": {
      "provenance": [],
      "authorship_tag": "ABX9TyMIqlmhVR1yyeXhcVPZOLGo",
      "include_colab_link": true
    },
    "kernelspec": {
      "name": "python3",
      "display_name": "Python 3"
    },
    "language_info": {
      "name": "python"
    }
  },
  "cells": [
    {
      "cell_type": "markdown",
      "metadata": {
        "id": "view-in-github",
        "colab_type": "text"
      },
      "source": [
        "<a href=\"https://colab.research.google.com/github/rsurapol/2023-Programming/blob/main/Chapter2.ipynb\" target=\"_parent\"><img src=\"https://colab.research.google.com/assets/colab-badge.svg\" alt=\"Open In Colab\"/></a>"
      ]
    },
    {
      "cell_type": "markdown",
      "source": [
        "# **บทที่ 2 แนะนำโปรแกรมไพธอนเบื้องต้น**"
      ],
      "metadata": {
        "id": "056SWzm9zl8Z"
      }
    },
    {
      "cell_type": "markdown",
      "source": [
        "## **การแสดงผลและการรับข้อมูล**\n",
        "---\n",
        "### **การแสดงผลออกจอภาพ**\n",
        "> ฟังก์ชัน print() ทำหน้าที่แสดงผลข้อมูลออกทางจอภาพ ซึ่งเป็นฟังก์ชัน Built-in ที่ภาษาไพธอนได้เตรียมไว้\n",
        "\n",
        "\n",
        "```\n",
        "print(*object, sep=' ', end='\\n',file=sys.stdout, flush=False)\n",
        "```\n",
        "> * object คือ ออบเจ็คที่ต้องการแสดงผล มีได้มากกว่า 1 ออปเจ็ค\n",
        "* sep คือ ส่วนที่ใช้แยกแต่ละ object ออกจากกัน ค่าปกติเป็น ช่องว่าง\n",
        "* end คือ การกำหนดแสดงผลออบเจ็ค ค่าปกติเป็นการขึ้นบรรทัดใหม่\n",
        "* file คือ ออบเจ็คไฟล์ที่ต้องการแสดงผล\n",
        "* flush คือ เมธอดนำข้อมูลจากบัพเฟอร์บันทึกลงไฟล์ ค่าปกติเป็น False"
      ],
      "metadata": {
        "id": "7qf1ujFNz7Qr"
      }
    },
    {
      "cell_type": "code",
      "execution_count": null,
      "metadata": {
        "id": "13P8WFpKvRz2"
      },
      "outputs": [],
      "source": [
        "\"\"\"\n",
        "ตัวอย่างที่ 2.1 การใช้งานฟังก์ชั่น print()\n",
        "\"\"\"\n",
        "x = 5; y = 10;\n",
        "s = \"Python is an easy programming langauge.\"\n",
        "print (\"x =\", x, \",\", \"y =\", y)\n",
        "print (\"ผลลัพธ์ของ x * y =\", x * y)\n",
        "print (s)"
      ]
    },
    {
      "cell_type": "markdown",
      "source": [
        "### **คำอธิบายโปรแกรมที่ 2.1**\n",
        "---\n",
        "> 1. บรรทัดที่ 1-3 แสดงคำอธิบายโปรแกรม (Comment)\n",
        "2. บรรทัดที่ 4 ประกาศตัวแปรชื่อ \"x,y\" เป็นชนิดข้อมูลตัวเลขจำนวนเต็ม(int) เก็บข้อมูล 5 และ 10\n",
        "3. บรรทัดที่ 5 ประกาศตัวแปรชื่อ \"s\" เป็นชนิดข้อมูลข้อความ(สตริง) เก็บข้อความ \"Python is an easy programming langauge.\"\n",
        "4. บรรทัดที่ 6 แสดงผลค่าตัวแปร \"x\" และ \"y\" ด้วยฟังก์ชัน print()\n",
        "5. บรรทัดที่ 7 แสดงผลค่าตัวแปร x คูณ y ด้วยฟังก์ชัน print()\n",
        "6. บรรทัดที่ 8 แสดงผลค่าตัวแปร s"
      ],
      "metadata": {
        "id": "JvlJQH-e3VKy"
      }
    },
    {
      "cell_type": "code",
      "source": [
        "\"\"\"\n",
        "ตัวอย่างที่ 2.2 การเรียกใช้งานฟังก์ชั่น print() แสดงผลในรูปแบบต่างๆ\n",
        "\"\"\"\n",
        "print (\"Hello Python\", 'Hello Python programming')\n",
        "print (50)\n",
        "print (\"Hello\" + \"Python\")\n",
        "print (\"Hello\" + ' ' + \"Python\")\n",
        "print ()\n",
        "print (5*10/2)"
      ],
      "metadata": {
        "id": "K79a8lMTv7P-"
      },
      "execution_count": null,
      "outputs": []
    },
    {
      "cell_type": "markdown",
      "source": [
        "### **คำอธิบายโปรแกรมที่ x.x**\n",
        "---\n",
        "> 1. บรรทัดที่ 1 แสดงคำอธิบายโปรแกรม (Comment)\n",
        "2. บรรทัดที่ 2 xxxxx\n",
        "3. บรรทัดที่ 3 xxxxx\n",
        "4. บรรทัดที่ 4 xxxxx"
      ],
      "metadata": {
        "id": "Sf9gwLQ24-gC"
      }
    },
    {
      "cell_type": "markdown",
      "source": [
        "## **การรับข้อมูล**\n",
        "---\n",
        "> ฟังก์ชัน input() ทำหน้าที่รอรับข้อมูลที่ถูกป้อนผ่านทางคีย์บอร์ด แต่เมื่อป้อนข้อมูลไม่ว่าจะเป็นตัวเลข หรือ ตัวอักษร ภาษาไพธอนจะแปลงเป็นชนิดข้อมูล สตริงทั้งหมด"
      ],
      "metadata": {
        "id": "dKnp6Z3a2Lwy"
      }
    },
    {
      "cell_type": "code",
      "source": [
        "\"\"\"\n",
        "ตัวอย่างที่ 2.3\n",
        "\"\"\"\n",
        "first_name = input(\"กรุณาป้อนชื่อของคุณ : \")\n",
        "last_name = input(\"กรุณาป้อนนามสกุลของคุณ : \")\n",
        "age = input(\"กรุณาป้อนอายุของคุณ : \")\n",
        "print(\"----------------------------------\")\n",
        "print (\"ชื่อของคุณ คือ\", first_name)\n",
        "print (\"นามสกุลของคุณ คือ\", last_name)\n",
        "print (\"อายุของคุณ คือ\", age)"
      ],
      "metadata": {
        "id": "njjndIbowKAK"
      },
      "execution_count": null,
      "outputs": []
    },
    {
      "cell_type": "markdown",
      "source": [
        "### **คำอธิบายโปรแกรมที่ x.x**\n",
        "---\n",
        "> 1. บรรทัดที่ 1 แสดงคำอธิบายโปรแกรม (Comment)\n",
        "2. บรรทัดที่ 2 xxxxx\n",
        "3. บรรทัดที่ 3 xxxxx\n",
        "4. บรรทัดที่ 4 xxxxx"
      ],
      "metadata": {
        "id": "Ebc739xo5Aio"
      }
    },
    {
      "cell_type": "code",
      "source": [
        "\"\"\"\n",
        "ตัวอย่างที่ 2.4\n",
        "\"\"\"\n",
        "print (\"Hello Python\", \"Hello Python programming\")\n",
        "print (50) # แสดงผลตัวเลข 50 ออกทางหน้าจอ\n",
        "print (247.451 + 124.12) # แสดงผลลัพธ์จากการบวก"
      ],
      "metadata": {
        "id": "gzMKRMTfwdCj"
      },
      "execution_count": null,
      "outputs": []
    },
    {
      "cell_type": "markdown",
      "source": [
        "### **คำอธิบายโปรแกรมที่ x.x**\n",
        "---\n",
        "> 1. บรรทัดที่ 1 แสดงคำอธิบายโปรแกรม (Comment)\n",
        "2. บรรทัดที่ 2 xxxxx\n",
        "3. บรรทัดที่ 3 xxxxx\n",
        "4. บรรทัดที่ 4 xxxxx"
      ],
      "metadata": {
        "id": "tg9qnBBj5CjS"
      }
    },
    {
      "cell_type": "code",
      "source": [
        "\"\"\"\n",
        "ตัวอย่างที่ 2.5  การใช้ comment หรือคำอธิบายโปรแกรม\n",
        "1. แสดงการใช้ฟังก์ชัน input() รับข้อมูลผ่านทางคีย์บอร์ด\n",
        "2. แสดงการใช้ฟังก์ชัน print() แสดงผลข้อมูล\n",
        "\"\"\"\n",
        "msg = input(\"กรุณาป้อนข้อความ : \")\n",
        "print (\"ข้อความที่คุณป้อน =\", msg)"
      ],
      "metadata": {
        "id": "UixXhDfpwj9P"
      },
      "execution_count": null,
      "outputs": []
    },
    {
      "cell_type": "markdown",
      "source": [
        "### **คำอธิบายโปรแกรมที่ x.x**\n",
        "---\n",
        "> 1. บรรทัดที่ 1 แสดงคำอธิบายโปรแกรม (Comment)\n",
        "2. บรรทัดที่ 2 xxxxx\n",
        "3. บรรทัดที่ 3 xxxxx\n",
        "4. บรรทัดที่ 4 xxxxx"
      ],
      "metadata": {
        "id": "XRSrl31V5EFw"
      }
    },
    {
      "cell_type": "markdown",
      "source": [
        "# **สรุป**\n",
        "---\n",
        "> นศ.ได้เรียนรู้จักกับฟังก์ชันที่นำมาแสดงผลข้อมูลและรับข้อมูล ซึ่งเป็นฟังก์ชัน Built-in และการเขียนคำอธิบายคำสั่งโปรแกรม"
      ],
      "metadata": {
        "id": "NVPaZBx56SmW"
      }
    },
    {
      "cell_type": "markdown",
      "source": [
        "# **แบบฝึกหัดท้ายบท**\n",
        "\n",
        "\n",
        "1.   จงยกตัวอย่างเครื่องมืออื่นๆ ที่สามารถนำมาพัฒนาโปรแกรมไพธอนได้อย่างน้อย ๓ เครื่องมือ\n",
        "2.   จงเขียนโปรแกรมให้แสดงผลรายละเอียดข้อมูล เช่น ชื่อ ที่อยู่ ประวัติการศึกษา สิ่งที่ชอบ สิ่งที่ไม่ชอบ โดยให้รับข้อมูลผ่านทางคีย์บอร์ด\n",
        "3. จงเขียนโปรแกรมสั้นๆ (อะไรก็ได้) พร้อมทั้งเขียนคำอธิบายการทำงานของโปรแกรมนั้น (comment) ทั้งแบบบรรทัดเดียวและหลายบรรทัด\n",
        "\n"
      ],
      "metadata": {
        "id": "EEPCec45Rfp_"
      }
    },
    {
      "cell_type": "markdown",
      "source": [
        "# เอกสารอ้างอิง\n",
        "---\n",
        "* หน้าสือ \"คู่มือเขียนโปรแกรมด้วยภาษาไพธอน\", ณัฐวัตร คำภักดี, provision, 2561.\n"
      ],
      "metadata": {
        "id": "NgMJ9CDl7lbi"
      }
    }
  ]
}