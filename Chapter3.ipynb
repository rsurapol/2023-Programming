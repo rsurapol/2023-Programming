{
  "nbformat": 4,
  "nbformat_minor": 0,
  "metadata": {
    "colab": {
      "provenance": [],
      "authorship_tag": "ABX9TyMIHd2vB6kRBc+uXo/665Q7",
      "include_colab_link": true
    },
    "kernelspec": {
      "name": "python3",
      "display_name": "Python 3"
    },
    "language_info": {
      "name": "python"
    }
  },
  "cells": [
    {
      "cell_type": "markdown",
      "metadata": {
        "id": "view-in-github",
        "colab_type": "text"
      },
      "source": [
        "<a href=\"https://colab.research.google.com/github/rsurapol/2023-Programming/blob/main/Chapter3.ipynb\" target=\"_parent\"><img src=\"https://colab.research.google.com/assets/colab-badge.svg\" alt=\"Open In Colab\"/></a>"
      ]
    },
    {
      "cell_type": "markdown",
      "source": [
        "# **บทที่ 3 ตัวแปร ชนิดข้อมูล นิพจน์ และตัวดำเนินการ**\n",
        "## **การตั้งชื่อตัวแปร**\n",
        "---\n",
        "> 1.   การตั้งชื่อตัวแปรด้วยตัวอักษรพิมพ์เล็กและตัวอักษรพิมพ์ใหญ่ ภาษาไพธอนจะถือว่าเป็นคนละชื่อตัวกัน เช่น Answer กับ answer\n",
        "2.   ชื่อตัวแปรต้องขึ้นต้นด้วยตัวอักษรภาษาอังกฤษ (A-Z,a-z) เท่านั้น และอาจตามด้วยตัวเลขหรือตัวอักษรภาษาอังกฤษสลับกันได้ เช่น Animal, animal_01, big10, book10group เป็นต้น\n",
        "3. ชื่อตัวแปรต้องไม่มีช่องว่าง จุด และสัญลักษณ์พิเศษ ยกเว้นเครื่องหมาย underscore(_) เช่น msg_1, msg1_sum\n",
        "4. ชื่อตัวแปรที่ตั้งขึ้นมาใช้งานควรสื่อความหมายกับข้อมูลที่ต้องการจัดเก็บ เพราะทำให้อ่านและเข้าใจได้ง่าย เช่น Tax ใช้เก็บค่าภาษี, studentName หรือ st_name ใช้เก็บชื่อนักเรียน, passwd ใช้เก็บรหัสผ่าน เป็นต้น\n",
        "5. สัญลักษณ์ต่อไปนี้ห้ามนำมาใช้ตั้งชื่อตัวแปร !, @, #, $, %, ^, &, *, (, ), -, =, |, +, ~\n",
        "6. เมื่อต้องการผสมคำตั้งชื่อตัวแปรให้ใช้เครื่องหมาย underscore เชื่อมหรือใช้ตัวอักษรภาษาอังกฤษตัวพิมพ์เล็กขึ้นต้น แล้วคำที่สองให้ขึ้นต้นด้วยตัวใหญ่ เช่น Table_name หรือ tableName เป็นต้น\n",
        "7. ห้ามตั้งชื่อซ้ำกับคำสงวน (Reserved Keyword) ซึ่งมีทั้งหมด 33 คำ"
      ],
      "metadata": {
        "id": "TOmHCV4S1GWI"
      }
    },
    {
      "cell_type": "markdown",
      "source": [
        "## **การประกาศตัวแปร (Declaration)**\n",
        "---\n",
        "ตัวอย่างเช่น\n",
        "```\n",
        "msg = \"Python Programming\"\n",
        "num = 2415\n",
        "score = 78.54\n",
        "grad = \"A\"\n",
        "```"
      ],
      "metadata": {
        "id": "uU7a7eKH1Y2C"
      }
    },
    {
      "cell_type": "code",
      "execution_count": null,
      "metadata": {
        "id": "BEHJPXfb0WEJ",
        "colab": {
          "base_uri": "https://localhost:8080/"
        },
        "outputId": "e95d0a13-2661-4e3d-88bf-9ec8275271a5"
      },
      "outputs": [
        {
          "output_type": "stream",
          "name": "stdout",
          "text": [
            "ปากกา สี = สีแดง\n",
            "โทรศัพท์ ยี่ห้อ = Samsung\n"
          ]
        }
      ],
      "source": [
        "#ex-3.1\n",
        "ปากกา = \"สีแดง\"\n",
        "โทรศัพท์ = \"Samsung\"\n",
        "print (\"ปากกา สี =\", ปากกา)\n",
        "print (\"โทรศัพท์ ยี่ห้อ =\", โทรศัพท์)"
      ]
    },
    {
      "cell_type": "markdown",
      "source": [
        "## **คำอธิบายโปรแกรมที่ 3.1**\n",
        "---\n",
        "> 1. บรรทัดที่ 1 แสดงคำอธิบายโปรแกรม (Comment)\n",
        "2. บรรทัดที่ 2 ประกาศตัวแปรชื่อ \"ปากกา\" เป็นชนิดข้อมูลข้อความ(สตริง) เก็บข้อความ \"สีแดง\"\n",
        "3. บรรทัดที่ 3 ประกาศตัวแปรชื่อ \"โทรศัพท์\" เป็นชนิดข้อมูลข้อความ(สตริง) เก็บข้อความ \"Samsung\"\n",
        "4. บรรทัดที่ 4 แสดงผลค่าตัวแปร \"ปากกา\" และ \"โทรศัพท์\" ด้วยฟังก์ชัน print()"
      ],
      "metadata": {
        "id": "MfPX4H_Nwt2d"
      }
    },
    {
      "cell_type": "markdown",
      "source": [
        "## ตัวแปรชนิดค่าคงที่ (Constant)"
      ],
      "metadata": {
        "id": "K7nhmJ5M1Vmk"
      }
    },
    {
      "cell_type": "code",
      "source": [
        "#ex-3.2\n",
        "pi = 3.14; area = pi * 5 * 5\n",
        "\n",
        "circumference = 2 * pi * 5\n",
        "print (\"พื้นที่วงกลม =\", area)\n",
        "print (\"เส้นรอบวงกลม =\", circumference)\n",
        "print (\"พื้นที่วงกลม = %.2f\"%area)\n",
        "print (\"เส้นรอบวงกลม = %.2f\"%circumference)\n",
        "print (\"พื้นที่วงกลม = {:.2f}\".format(area))\n",
        "print (\"เส้นรอบวงกลม = {:.2f}\".format(circumference))"
      ],
      "metadata": {
        "id": "bCB-rOlM04fl",
        "colab": {
          "base_uri": "https://localhost:8080/"
        },
        "outputId": "93a0d8a6-bb99-41a1-fd0a-aebc58ab026b"
      },
      "execution_count": null,
      "outputs": [
        {
          "output_type": "stream",
          "name": "stdout",
          "text": [
            "พื้นที่วงกลม = 78.5\n",
            "เส้นรอบวงกลม = 31.400000000000002\n",
            "พื้นที่วงกลม = 78.50\n",
            "เส้นรอบวงกลม = 31.40\n",
            "พื้นที่วงกลม = 78.50\n",
            "เส้นรอบวงกลม = 31.40\n"
          ]
        }
      ]
    },
    {
      "cell_type": "markdown",
      "source": [
        "## **คำอธิบายโปรแกรมที่ x.x**\n",
        "---\n",
        "> 1. บรรทัดที่ 1 แสดงคำอธิบายโปรแกรม (Comment)\n",
        "2. บรรทัดที่ 2 xxxxx\n",
        "3. บรรทัดที่ 3 xxxxx\n",
        "4. บรรทัดที่ 4 xxxxx"
      ],
      "metadata": {
        "id": "0h-t6Kuxy_iG"
      }
    },
    {
      "cell_type": "markdown",
      "source": [
        "## ชนิดข้อมูลจำนวนเต็ม (Integer)"
      ],
      "metadata": {
        "id": "z-HOTEB-1c5A"
      }
    },
    {
      "cell_type": "code",
      "source": [
        "#ex-3.3\n",
        "num1 = 546135478945123456214\n",
        "num2 = 14567489412457845679\n",
        "print(\"ผลบวกของ num1 กับ num2 =\", num1 + num2,\"Y\")\n",
        "print(\"ผลลบของ num1 กับ num2 =\", num1 - num2)"
      ],
      "metadata": {
        "id": "-HHddsg40_NO",
        "colab": {
          "base_uri": "https://localhost:8080/"
        },
        "outputId": "148a8f90-bb06-4619-efd6-65dc726ed9ab"
      },
      "execution_count": null,
      "outputs": [
        {
          "output_type": "stream",
          "name": "stdout",
          "text": [
            "ผลบวกของ num1 กับ num2 = 560702968357581301893 Y\n",
            "ผลลบของ num1 กับ num2 = 531567989532665610535\n"
          ]
        }
      ]
    },
    {
      "cell_type": "code",
      "source": [
        "#ex-3.4 การแปลงเลขฐานสิบเป็น ฐานสอง ฐานแปด ฐานสิบหก\n",
        "x = 6749\n",
        "print (\"แปลงเลขฐานสิบเป็นฐานสอง =\", bin(x))\n",
        "print (\"แปลงเลขฐานสิบเป็นฐานแปด =\", oct(x))\n",
        "print (\"แปลงเลขฐานสิบเป็นฐานสิบหก =\", hex(x))"
      ],
      "metadata": {
        "id": "T8HRLSDy17kc",
        "colab": {
          "base_uri": "https://localhost:8080/"
        },
        "outputId": "2b054023-6206-4807-8de0-f45b4e056ba6"
      },
      "execution_count": null,
      "outputs": [
        {
          "output_type": "stream",
          "name": "stdout",
          "text": [
            "แปลงเลขฐานสิบเป็นฐานสอง = 0b1101001011101\n",
            "แปลงเลขฐานสิบเป็นฐานแปด = 0o15135\n",
            "แปลงเลขฐานสิบเป็นฐานสิบหก = 0x1a5d\n"
          ]
        }
      ]
    },
    {
      "cell_type": "code",
      "source": [
        "#ex-3.5 การแปลงเลขฐานสอง ฐานแปด ฐานสิบหก เป็นฐานสิบ\n",
        "a = 0b100111011001\n",
        "b = 0o6453\n",
        "c = 0xAC41\n",
        "print (\"แปลงเลขฐานสองเป็นฐานสิบ =\", int(a))\n",
        "print (\"แปลงเลขฐานแปดเป็นฐานสิบ =\", int(b))\n",
        "print (\"แปลงเลขฐานสิบหกเป็นฐานสิบ =\", int(c))"
      ],
      "metadata": {
        "id": "xvhNvTqW191G",
        "colab": {
          "base_uri": "https://localhost:8080/"
        },
        "outputId": "73d643f1-cc50-4b7f-e938-58b46781e194"
      },
      "execution_count": null,
      "outputs": [
        {
          "output_type": "stream",
          "name": "stdout",
          "text": [
            "แปลงเลขฐานสองเป็นฐานสิบ = 2521\n",
            "แปลงเลขฐานแปดเป็นฐานสิบ = 3371\n",
            "แปลงเลขฐานสิบหกเป็นฐานสิบ = 44097\n"
          ]
        }
      ]
    },
    {
      "cell_type": "code",
      "source": [
        "#ex-3.6 การบวกเลขฐานสองและการแปลงผลลัพธ์จากเลขฐานสิบ เป็นฐานสอง ฐานแปด ฐานสิบหก\n",
        "a = 0b1001011; b = 0b1101101\n",
        "c = a + b\n",
        "print (\"ผลบวกของ a กับ b =\", c)\n",
        "print (\"แปลงผลลัพธ์จากการผลบวก a กับ b เป็นเลขฐานสอง =\", bin(c))\n",
        "print (\"แปลงผลลัพธ์จากการผลบวก a กับ b เป็นเลขฐานแปด =\", oct(c))\n",
        "print (\"แปลงผลลัพธ์จากการผลบวก a กับ b เป็นเลขฐานสิบหก =\", hex(c))"
      ],
      "metadata": {
        "id": "nVTa0rUl2Yst"
      },
      "execution_count": null,
      "outputs": []
    },
    {
      "cell_type": "markdown",
      "source": [
        "## ชนิดข้อมูลจำนวนทศนิยม (Float)"
      ],
      "metadata": {
        "id": "psXuqyj_2p2F"
      }
    },
    {
      "cell_type": "code",
      "source": [
        "#ex-3.7 การแสดงผลการบวก ลบ กับชนิดข้อมูลจำนวนทศนิยม\n",
        "a = 341.451E-3; b = 251.147e-2; c = 758.457E5; x = 10.5; y = 17.5\n",
        "d = a - b\n",
        "z = x + y\n",
        "print (\"ค่าตัวเลขจำนวนทศนิยมของ b = \", b)\n",
        "print (\"ผลลัพธ์จาการลบ a กับ b =\", d)\n",
        "print (\"ผลลัพธ์จากการบวก x กับ y =\", z)"
      ],
      "metadata": {
        "id": "ouFWeOds2yWg"
      },
      "execution_count": null,
      "outputs": []
    },
    {
      "cell_type": "code",
      "source": [
        "#ex-3.8 การแปลงชนิดข้อมูลอักขระหรือสตริง เป็นชนิดข้อมูลจำนวนทศนิยม\n",
        "a = 56; b = 55\n",
        "c = float(a)\n",
        "d = float(b)\n",
        "x = c + d\n",
        "y = c * d\n",
        "print (\"ผลลัพธ์จากการแปลงค่า 56 =\", c)\n",
        "print (\"ผลลัพธ์จาการแปลงค่า 55 =\", d)\n",
        "print (\"ผลลัพธ์จาการบวกค่าของ c + d =\", x)\n",
        "print (\"ผลลัพธ์จากการคูณค่าของ c * d =\", y)"
      ],
      "metadata": {
        "colab": {
          "base_uri": "https://localhost:8080/"
        },
        "id": "B_Rdf7EQ21rx",
        "outputId": "e1e394b3-9a04-48dd-a554-3dca1e63fff5"
      },
      "execution_count": null,
      "outputs": [
        {
          "output_type": "stream",
          "name": "stdout",
          "text": [
            "ผลลัพธ์จากการแปลงค่า 56 = 56.0\n",
            "ผลลัพธ์จาการแปลงค่า 55 = 55.0\n",
            "ผลลัพธ์จาการบวกค่าของ c + d = 111.0\n",
            "ผลลัพธ์จากการคูณค่าของ c * d = 3080.0\n"
          ]
        }
      ]
    },
    {
      "cell_type": "markdown",
      "source": [
        "## ชนิดข้อมูลจำนวนเชิงซ้อ (Complex)"
      ],
      "metadata": {
        "id": "gykBqqkQ3ihQ"
      }
    },
    {
      "cell_type": "code",
      "source": [
        "#ex-3.9 การใช้ตัวดำเนินการบวก ลบ กับชนิดข้อมูลเชิงซ้อน\n",
        "a = 20 + 5j; b = 15 + 6j; c = 6 - 7j\n",
        "x = a + b\n",
        "y = b * c\n",
        "print (\"ผลลัพธ์การบวกระหว่าง a กับ b =\", x)\n",
        "print (\"ผลลัพธ์การคูณระหว่าง b กับ c =\", y)"
      ],
      "metadata": {
        "id": "TYBj1d9b3pLs"
      },
      "execution_count": null,
      "outputs": []
    },
    {
      "cell_type": "markdown",
      "source": [
        "## ชนิดข้อมูลตรรกะ (Boolean)"
      ],
      "metadata": {
        "id": "vQgsnHth3806"
      }
    },
    {
      "cell_type": "code",
      "source": [
        "#ex-3.10 การเขียนคำสั่งโปรแกรมใช้งานชนิดข้อมูลตรรกะ\n",
        "x = True; y = False; z = True\n",
        "print(\"ผลการเปรียบเทียบ x == y หรือไม่ =\", x == y)\n",
        "print(\"ผลการเปรียบเทียบ y == z หรือไม่ =\", y == z)\n",
        "print(\"ผลการเปรียบเทียบ z == True หรือไม่ =\", z == True)"
      ],
      "metadata": {
        "colab": {
          "base_uri": "https://localhost:8080/"
        },
        "id": "WiYZNxNc4CfA",
        "outputId": "405a489f-96df-4c4b-d77c-5a583edf4cc6"
      },
      "execution_count": null,
      "outputs": [
        {
          "output_type": "stream",
          "name": "stdout",
          "text": [
            "ผลการเปรียบเทียบ x == y หรือไม่ = False\n",
            "ผลการเปรียบเทียบ y == z หรือไม่ = False\n",
            "ผลการเปรียบเทียบ z == True หรือไม่ = True\n"
          ]
        }
      ]
    },
    {
      "cell_type": "code",
      "source": [
        "#ex-3.11 การใช้งานฟังก์ชัน bool() ตรวจสอบค่าข้อมูลในตัวแปร\n",
        "b = \"\"; c = \" \"; n = None; num = 245\n",
        "print (\"มีข้อมูลอยู่ในตัวแปร b หรือไม่ =\", bool(b))\n",
        "print (\"มีข้อมูลอยู่ในตัวแปร c หรือไม่ =\", bool(c))\n",
        "print (\"มีข้อมูลอยู่ในตัวแปร n หรือไม่ =\", bool(n))\n",
        "print (\"มีข้อมูลอยู่ในตัวแปร num2 หรือไม่ =\", bool(num))"
      ],
      "metadata": {
        "id": "liBfnF5U4qaC"
      },
      "execution_count": null,
      "outputs": []
    },
    {
      "cell_type": "markdown",
      "source": [
        "## ชนิดข้อมูลสายอักขระหรือสตริง (String)"
      ],
      "metadata": {
        "id": "7U-V3bZi4g-2"
      }
    },
    {
      "cell_type": "code",
      "source": [
        "#ex-3.12 การประกาศสร้างตัวแปรชนิดข้อมูลสตริง\n",
        "msg = \"Python Programming\"\n",
        "msg1 = 'Language'\n",
        "print(msg)\n",
        "print(msg1)\n",
        "print(msg, msg1)"
      ],
      "metadata": {
        "id": "xIEhGUOv4oG0"
      },
      "execution_count": null,
      "outputs": []
    },
    {
      "cell_type": "markdown",
      "source": [
        "## การแปลงชนิดข้อมูล (Data Type Conversion)"
      ],
      "metadata": {
        "id": "lJk8Q2dr5Vcn"
      }
    },
    {
      "cell_type": "code",
      "source": [
        "#ex-3.13 การแจ้งเตือนข้อผิดพลาดเมื่อนำชนิดข้อมูลสตริงดำเนินการกับชนิดข้อมูลจำนวนเต็ม\n",
        "num = int(input(\"Enter number = \"))\n",
        "print(type(num))\n",
        "print(50 + num)\n",
        "#print(50 + num)"
      ],
      "metadata": {
        "id": "_VMs_C4x47Sd",
        "colab": {
          "base_uri": "https://localhost:8080/"
        },
        "outputId": "79432c72-52b9-4d0c-d1a8-8c7d52567ecb"
      },
      "execution_count": null,
      "outputs": [
        {
          "output_type": "stream",
          "name": "stdout",
          "text": [
            "Enter number = 1\n",
            "<class 'int'>\n",
            "51\n"
          ]
        }
      ]
    },
    {
      "cell_type": "code",
      "source": [
        "#ex-3.14 การแปลงชนิดข้อมูลสตริงเป็นชนิดข้อมูลจำนวนเต็ม\n",
        "num = int(input(\"กรุณาป้อนตัวเลขของคุณ : \"))\n",
        "x = \"60\"\n",
        "y = int(x) + num\n",
        "print (\"ผลลัพธ์จากการบวก x + num =\", y)"
      ],
      "metadata": {
        "id": "WMWM2Dv05Bcv",
        "colab": {
          "base_uri": "https://localhost:8080/"
        },
        "outputId": "21334120-60ed-440b-a285-559cb187dd61"
      },
      "execution_count": null,
      "outputs": [
        {
          "output_type": "stream",
          "name": "stdout",
          "text": [
            "กรุณาป้อนตัวเลขของคุณ : 10\n",
            "ผลลัพธ์จากการบวก x + num = 70\n"
          ]
        }
      ]
    },
    {
      "cell_type": "code",
      "source": [
        "#ex-3.15 การแปลงชนิดข้อมูลสตริงเป็นชนิดข้อมูลจำนวนทศนิยม\n",
        "flo = float(input(\"กรุณาป้อนตัวเลขของคุณ : \"))\n",
        "x = \"152.124\"\n",
        "y = float(x) + flo\n",
        "print (\"ผลลัพธ์จากการบวก x + flo =\", y)"
      ],
      "metadata": {
        "id": "gbpAlbpV5nXV"
      },
      "execution_count": null,
      "outputs": []
    },
    {
      "cell_type": "code",
      "source": [
        "#ex-3.16 การแปลงชนิดข้อมูลสตริงเป็นชนิดข้อมูลเชิงซ้อน\n",
        "a = \"20+5j\"; b = \"15+6j\";\n",
        "x = complex(a)\n",
        "y = complex(b)\n",
        "z = complex(7,5)\n",
        "print (\"ผลลัพธ์การแปลงชนิดข้อมูลจำนวนเชิงซ้อนจากตัวแปร a =\", x)\n",
        "print (\"ผลลัพธ์การแปลงชนิดข้อมูลจำนวนเชิงซ้อนจากตัวแปร b =\", y)\n",
        "print (\"ค่าจำนวนจริงของ c =\", x.real, \"และค่าจินตภาพของ c = \", x.imag)\n",
        "print (\"ผลลัพธ์การแปลงเครื่องหมายตัวดำเนินการของตัวแปร y =\", y.conjugate())\n",
        "print (\"ผลลัพธ์การสร้างคู่อันดับจากตัวแปร z =\", z)"
      ],
      "metadata": {
        "id": "hXbFugWa5orp"
      },
      "execution_count": null,
      "outputs": []
    },
    {
      "cell_type": "code",
      "source": [
        "#ex-3.17 การแปลง สตริง เป็น จำนวนเชิงซ้อน กรณีเกิดการแจ้งเตือนข้อผิดพลาด ที่มีช่องว่าง\n",
        "c = \"25 + 9j\"\n",
        "print(complex(c))"
      ],
      "metadata": {
        "colab": {
          "base_uri": "https://localhost:8080/",
          "height": 203
        },
        "id": "9XOSiZLE5pFq",
        "outputId": "be80e606-d6f7-4f9b-ddee-64a081f38ea5"
      },
      "execution_count": null,
      "outputs": [
        {
          "output_type": "error",
          "ename": "ValueError",
          "evalue": "ignored",
          "traceback": [
            "\u001b[0;31m---------------------------------------------------------------------------\u001b[0m",
            "\u001b[0;31mValueError\u001b[0m                                Traceback (most recent call last)",
            "\u001b[0;32m<ipython-input-4-4b857941eb11>\u001b[0m in \u001b[0;36m<cell line: 3>\u001b[0;34m()\u001b[0m\n\u001b[1;32m      1\u001b[0m \u001b[0;31m#ex-3.17 การแปลง สตริง เป็น จำนวนเชิงซ้อน กรณีเกิดการแจ้งเตือนข้อผิดพลาด ที่มีช่องว่าง\u001b[0m\u001b[0;34m\u001b[0m\u001b[0;34m\u001b[0m\u001b[0m\n\u001b[1;32m      2\u001b[0m \u001b[0mc\u001b[0m \u001b[0;34m=\u001b[0m \u001b[0;34m\"25 + 9j\"\u001b[0m\u001b[0;34m\u001b[0m\u001b[0;34m\u001b[0m\u001b[0m\n\u001b[0;32m----> 3\u001b[0;31m \u001b[0mprint\u001b[0m\u001b[0;34m(\u001b[0m\u001b[0mcomplex\u001b[0m\u001b[0;34m(\u001b[0m\u001b[0mc\u001b[0m\u001b[0;34m)\u001b[0m\u001b[0;34m)\u001b[0m\u001b[0;34m\u001b[0m\u001b[0;34m\u001b[0m\u001b[0m\n\u001b[0m",
            "\u001b[0;31mValueError\u001b[0m: complex() arg is a malformed string"
          ]
        }
      ]
    },
    {
      "cell_type": "markdown",
      "source": [
        "## การกำหนดค่าให้กับตัวแปร"
      ],
      "metadata": {
        "id": "KMRyH8w16tXu"
      }
    },
    {
      "cell_type": "code",
      "source": [
        "#ex-3.18 การสร้างตัวแปรครั้งละหลายๆ ตัว และกำหนดเป็นชนิดข้อมูลเดียวกัน\n",
        "num_1 = num_2 = num_3 = 50\n",
        "print (\"ค่าข้อมูลในตัวแปร num_1 =\", num_1)\n",
        "print (\"ค่าข้อมูลในตัวแปร num_2 =\", num_2)\n",
        "print (\"ค่าข้อมูลในตัวแปร num_3 =\", num_3)"
      ],
      "metadata": {
        "id": "Zz_xCKek6xHu"
      },
      "execution_count": null,
      "outputs": []
    },
    {
      "cell_type": "code",
      "source": [
        "#ex-3.19 การสร้างตัวแปรครั้งละหลายๆ ตัว และกำหนดชนิดข้อมูลจำนวนเต็ม และสตริง\n",
        "num1, num2, msg = 50, 100, \"Hello World\"\n",
        "print (\"ค่าข้อมูลในตัวแปร num1 =\", num1)\n",
        "print (\"ค่าข้อมูลในตัวแปร num2 =\", num2)\n",
        "print (\"ค่าข้อมูลในตัวแปร msg = \", msg)"
      ],
      "metadata": {
        "id": "UTQ3i19064BY"
      },
      "execution_count": null,
      "outputs": []
    },
    {
      "cell_type": "code",
      "source": [
        "#ex-3.20 การสร้างตัวแปรครั้งละหลายๆ ตัว แต่แยกเก็บชนิดข้อมูลอยู่ในบรรทัดเดียวกัน\n",
        "x = 200; y = 300; msg = \"Hello Python\"\n",
        "print (\"ค่าข้อมูลในตัวแปร x =\", x)\n",
        "print (\"ค่าข้อมูลในตัวแปร y =\", y)\n",
        "print (\"ค่าข้อมูลในตัวแปร msg = \", msg)"
      ],
      "metadata": {
        "id": "FhIoIUir65MS"
      },
      "execution_count": null,
      "outputs": []
    },
    {
      "cell_type": "markdown",
      "source": [
        "## การตรวจสอบชนิดข้อมูล"
      ],
      "metadata": {
        "id": "oA-e4As_7jIW"
      }
    },
    {
      "cell_type": "code",
      "source": [
        "#ex-3.21 การตรวจสอบชนิดข้อมูลด้วยฟังก์ชัน type()\n",
        "msg = \"Python Programming\"\n",
        "num = 254\n",
        "float_ = 354.213\n",
        "print(type(msg))\n",
        "print(type(num))\n",
        "print(type(float_))"
      ],
      "metadata": {
        "id": "ZD-9GYMi7nvv"
      },
      "execution_count": null,
      "outputs": []
    },
    {
      "cell_type": "markdown",
      "source": [
        "## นิพจน์ (Expressions)\n",
        "\n",
        "---\n",
        "นิพจน์ เป็นการดำเนินการทางคณิตศาสตร์เพื่อคำนวณ หรือ ทำการเปรียบเทียบหาค่าต่างๆ ตามต้องการ ในการดำเนินการจะประกอบด้วย ค่าคงที่ หรือ ตัวแปร สิ่งเหล่านี้เรียกว่า\n",
        "\n",
        "*   ตัวถูกดำเนินการ (Operand)\n",
        "*   ตัวดำเนินการ (Operator) คือ สัญลักษณ์ต่างๆ เช่น +,-,*,/,<,>,= เป็นต้น\n",
        "\n",
        "![ExpressionInPython.jpeg](data:image/jpeg;base64,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)\n",
        "from: [What is an Expression and What are the types of Expressions?](https://www.geeksforgeeks.org/what-is-an-expression-and-what-are-the-types-of-expressions/)\n",
        "\n",
        "\n",
        "\n",
        "\n"
      ],
      "metadata": {
        "id": "zvEHU4kN7yy5"
      }
    },
    {
      "cell_type": "markdown",
      "source": [
        "## ตัวดำเนินการทางคณิตศาสตร์ (Arithmetic Operator)"
      ],
      "metadata": {
        "id": "fvXoupZP9Top"
      }
    },
    {
      "cell_type": "markdown",
      "source": [],
      "metadata": {
        "id": "HHdDlPtrbixs"
      }
    },
    {
      "cell_type": "code",
      "source": [
        "10%2 =\n",
        "4%2 =\n",
        "4%3 =\n",
        "5%2 ="
      ],
      "metadata": {
        "id": "A-eqg2BYbj8f"
      },
      "execution_count": null,
      "outputs": []
    },
    {
      "cell_type": "code",
      "source": [
        "#ex-3.22 การนำตัวดำเนินการมาใช้\n",
        "a = 5; b = 3;\n",
        "z = a + b\n",
        "print(\"ผลลัพธ์ของ a + b คือ \", z)\n",
        "z = a - b\n",
        "print(\"ผลลัพธ์ของ a - b คือ \", z)\n",
        "z = a * b\n",
        "print(\"ผลลัพธ์ของ a * b คือ \", z)\n",
        "z = a / b\n",
        "print(\"ผลลัพธ์ของ a / b คือ \", z)\n",
        "z = a % b\n",
        "print(\"ผลลัพธ์ของ a % b คือ \", z)\n",
        "z = a ** b\n",
        "print(\"ผลลัพธ์ของ a ** b คือ \", z)\n",
        "z = a // b\n",
        "print(\"ผลลัพธ์ของ a // b คือ \", z)"
      ],
      "metadata": {
        "id": "B_G9wzBM9cYr",
        "colab": {
          "base_uri": "https://localhost:8080/"
        },
        "outputId": "9e009b6c-9ff3-4f1e-c4cc-d09608fceae4"
      },
      "execution_count": null,
      "outputs": [
        {
          "output_type": "stream",
          "name": "stdout",
          "text": [
            "ผลลัพธ์ของ a + b คือ  8\n",
            "ผลลัพธ์ของ a - b คือ  2\n",
            "ผลลัพธ์ของ a * b คือ  15\n",
            "ผลลัพธ์ของ a / b คือ  1.6666666666666667\n",
            "ผลลัพธ์ของ a % b คือ  2\n",
            "ผลลัพธ์ของ a ** b คือ  125\n",
            "ผลลัพธ์ของ a // b คือ  1\n"
          ]
        }
      ]
    },
    {
      "cell_type": "markdown",
      "source": [
        "## ตัวดำเนินการเปรียบเทียบ (Comparison Operator)"
      ],
      "metadata": {
        "id": "e_KpN12B9qbE"
      }
    },
    {
      "cell_type": "code",
      "source": [
        "#ex-3.23 การใช้ตัวดำเนินการเปรียบเทียบ\n",
        "a = 5; b = 3; c = 15; d = 3\n",
        "w = (a == c)\n",
        "print(\"a เท่ากับ c หรือไม่ =\", w)\n",
        "x = (d <= a)\n",
        "print(\"d น้อยกว่าหรือเท่ากับ a หรือไม่ =\", x)\n",
        "y = (b >= c)\n",
        "print(\"b มากกว่าหรือเท่ากับ c หรือไม่ =\", y)\n",
        "z = (b == d < a)\n",
        "print(\"b เท่ากับ d และน้อยกว่า a หรือไม่ =\", z)"
      ],
      "metadata": {
        "id": "7PEXSd6J9xU8",
        "colab": {
          "base_uri": "https://localhost:8080/"
        },
        "outputId": "a199f20e-29f4-4e73-ac33-10383bc3724d"
      },
      "execution_count": null,
      "outputs": [
        {
          "output_type": "stream",
          "name": "stdout",
          "text": [
            "a เท่ากับ c หรือไม่ = False\n",
            "d น้อยกว่าหรือเท่ากับ a หรือไม่ = True\n",
            "b มากกว่าหรือเท่ากับ c หรือไม่ = False\n",
            "b เท่ากับ d และน้อยกว่า a หรือไม่ = True\n"
          ]
        }
      ]
    },
    {
      "cell_type": "markdown",
      "source": [
        "## ตัวดำเนินการกำหนดค่า (Assignment Operator)"
      ],
      "metadata": {
        "id": "SsrKaK4P-dG4"
      }
    },
    {
      "cell_type": "code",
      "source": [
        "#ex-3.24-1\n",
        "a = 5; b = 3\n",
        "a = b\n",
        "print(\"ผลลัพธ์ a = b :\", a)"
      ],
      "metadata": {
        "id": "yoRHHv5B-jG9"
      },
      "execution_count": null,
      "outputs": []
    },
    {
      "cell_type": "code",
      "source": [
        "#ex-3.24-2\n",
        "a = 5; b = 3\n",
        "a += b #a = a + b\n",
        "print(\"ผลลัพธ์ a += b :\", a)"
      ],
      "metadata": {
        "id": "Du-xSFpL-rQA"
      },
      "execution_count": null,
      "outputs": []
    },
    {
      "cell_type": "code",
      "source": [
        "#ex-3.24-3\n",
        "a = 5; b = 3\n",
        "a -= b # a = a - b\n",
        "print(\"ผลลัพธ์ a -= b :\", a)"
      ],
      "metadata": {
        "id": "0ex5Z0xs-uEk"
      },
      "execution_count": null,
      "outputs": []
    },
    {
      "cell_type": "code",
      "source": [
        "#ex-3.24-4\n",
        "a = 5; b = 3\n",
        "a *= b # a = a * b\n",
        "print(\"ผลลัพธ์ a *= b :\", a)"
      ],
      "metadata": {
        "id": "356VCjba-9pJ"
      },
      "execution_count": null,
      "outputs": []
    },
    {
      "cell_type": "code",
      "source": [
        "#ex-3.24-5\n",
        "a = 5; b = 3\n",
        "a /= b # a = a / b\n",
        "print(\"ผลลัพธ์ a /= b :\", a)"
      ],
      "metadata": {
        "id": "MnQC4R0T_Ds0"
      },
      "execution_count": null,
      "outputs": []
    },
    {
      "cell_type": "code",
      "source": [
        "#ex-3.24-6\n",
        "a = 5; b = 3\n",
        "a %= b # a = a % b\n",
        "print(\"ผลลัพธ์ a %= b :\", a)"
      ],
      "metadata": {
        "colab": {
          "base_uri": "https://localhost:8080/"
        },
        "id": "1hpBTSZC_ISq",
        "outputId": "7fd6030c-8eea-4546-d6df-e667ec2ec270"
      },
      "execution_count": null,
      "outputs": [
        {
          "output_type": "stream",
          "name": "stdout",
          "text": [
            "ผลลัพธ์ a %= b : 2\n"
          ]
        }
      ]
    },
    {
      "cell_type": "code",
      "source": [
        "#ex-3.24-7\n",
        "a = 5; b = 3\n",
        "a **= b\n",
        "print(\"ผลลัพธ์ a **= b :\", a)"
      ],
      "metadata": {
        "colab": {
          "base_uri": "https://localhost:8080/"
        },
        "id": "qYmZbiyw_P_c",
        "outputId": "c8aec67f-7f88-460a-c50d-7a75d25f07db"
      },
      "execution_count": null,
      "outputs": [
        {
          "output_type": "stream",
          "name": "stdout",
          "text": [
            "ผลลัพธ์ a **= b : 125\n"
          ]
        }
      ]
    },
    {
      "cell_type": "code",
      "source": [
        "#ex-3.24-8\n",
        "a = 5; b = 3\n",
        "a //= b\n",
        "print(\"ผลลัพธ์ a //= b :\", a)"
      ],
      "metadata": {
        "colab": {
          "base_uri": "https://localhost:8080/"
        },
        "id": "zSoY8sGZ_TZM",
        "outputId": "6eda9978-1db4-46e9-f41a-84ab9b1395e0"
      },
      "execution_count": null,
      "outputs": [
        {
          "output_type": "stream",
          "name": "stdout",
          "text": [
            "ผลลัพธ์ a //= b : 1\n"
          ]
        }
      ]
    },
    {
      "cell_type": "markdown",
      "source": [
        "## ตัวดำเนินการตรรกศาสตร์ (Logical Operator)"
      ],
      "metadata": {
        "id": "AyEm3KwoHuQ2"
      }
    },
    {
      "cell_type": "code",
      "source": [
        "#ex-3.25\n",
        "a = 5; b = 3; c = 15; z = 0\n",
        "\n",
        "z = a == b and c < b\n",
        "print(\"ผลลัพธ์ของ a == b and c < b คือ \", z)\n",
        "z = a > b and a < c\n",
        "print(\"ผลลัพธ์ของ a > b and a < c คือ \", z)\n",
        "z = b > a or a > c\n",
        "print(\"ผลลัพธ์ของ b > a or a > c คือ \", z)\n",
        "z = b < a or c > a\n",
        "print(\"ผลลัพธ์ของ b < a or c > a คือ \", z)\n",
        "z = not (a < c)\n",
        "print(\"ผลลัพธ์ของ not (a < c) คือ \", z)\n",
        "z = not (b > a or c < a)\n",
        "print(\"ผลลัพธ์ของ not (b > a or c < a) คือ \", z)"
      ],
      "metadata": {
        "id": "-X3M_4SVH164"
      },
      "execution_count": null,
      "outputs": []
    },
    {
      "cell_type": "markdown",
      "source": [
        "## ตัวดำเนินการระดับบิต (Bitwise Operator)"
      ],
      "metadata": {
        "id": "6bFg2fTKIE5_"
      }
    },
    {
      "cell_type": "code",
      "source": [
        "#ex-3.26\n",
        "a = 5; b = 3; c= 5\n",
        "\"\"\"\n",
        "แปลงเป็นเลขฐาน 2 เพื่อความเข้าใจ\n",
        "ab=bin(a); bb=bin(b); cb=bin(c)\n",
        "print(\"5 = \",ab)\n",
        "print(\"3 = \",bb)\n",
        "print(\"5 = \",cb)\n",
        "\"\"\"\n",
        "z = a & b\n",
        "print(\"ผลลัพธ์ของ a & b คือ \", z)\n",
        "z = a ^ c\n",
        "print(\"ผลลัพธ์ของ a ^ c คือ \", z)\n",
        "z = a | b\n",
        "print(\"ผลลัพธ์ของ a | b คือ \", z)\n",
        "z = a << 1\n",
        "print(\"ผลลัพธ์ของ a << 1 คือ \", z)\n",
        "\n",
        "#print(int(0b1010))"
      ],
      "metadata": {
        "colab": {
          "base_uri": "https://localhost:8080/"
        },
        "id": "5Ihem19zILtC",
        "outputId": "3676c1ce-387e-47bc-96a1-c05a4b46a2c5"
      },
      "execution_count": null,
      "outputs": [
        {
          "output_type": "stream",
          "name": "stdout",
          "text": [
            "ผลลัพธ์ของ a & b คือ  1\n",
            "ผลลัพธ์ของ a ^ c คือ  0\n",
            "ผลลัพธ์ของ a | b คือ  7\n",
            "ผลลัพธ์ของ a << 1 คือ  10\n"
          ]
        }
      ]
    },
    {
      "cell_type": "markdown",
      "source": [
        "## ตัวดำเนินการตรวจสอบสมาชิก (Membership Operator)"
      ],
      "metadata": {
        "id": "jGa3sKeqKKBo"
      }
    },
    {
      "cell_type": "code",
      "source": [
        "#ex-3.27\n",
        "cars = [\"Honda\", \"Toyota\", \"BMW\", \"Benz\", \"Nissan\", \"Mazda\" ]\n",
        "my_car = \"Ford\"\n",
        "\n",
        "z = my_car in cars\n",
        "print(\"ผลลัพธ์ของ my_car in cars =\", z)\n",
        "z = my_car not in cars\n",
        "print(\"ผลลัพธ์ของ my_car not in cars =\", z)"
      ],
      "metadata": {
        "colab": {
          "base_uri": "https://localhost:8080/"
        },
        "id": "ZBsXjw_sKRUQ",
        "outputId": "8e9c6825-1c7a-4c10-ab44-fa60505795d2"
      },
      "execution_count": null,
      "outputs": [
        {
          "output_type": "stream",
          "name": "stdout",
          "text": [
            "ผลลัพธ์ของ my_car in cars = False\n",
            "ผลลัพธ์ของ my_car not in cars = True\n"
          ]
        }
      ]
    },
    {
      "cell_type": "markdown",
      "source": [
        "## ตัวดำเนินการเอกลักษณ์ (Identity Operator)"
      ],
      "metadata": {
        "id": "F74f5O-jKg6e"
      }
    },
    {
      "cell_type": "code",
      "source": [
        "#ex-3.28\n",
        "a = 5; b = 3\n",
        "\n",
        "z = a is b\n",
        "print(\"ผลลัพธ์ของ a is b คือ \", z)\n",
        "z = a is not b\n",
        "print(\"ผลลัพธ์ของ a is not b คือ \", z)"
      ],
      "metadata": {
        "id": "aK_8w9bCKnwc",
        "colab": {
          "base_uri": "https://localhost:8080/"
        },
        "outputId": "4fd25682-ba99-4656-a9c3-bbef403dfa4e"
      },
      "execution_count": null,
      "outputs": [
        {
          "output_type": "stream",
          "name": "stdout",
          "text": [
            "ผลลัพธ์ของ a is b คือ  False\n",
            "ผลลัพธ์ของ a is not b คือ  True\n"
          ]
        }
      ]
    },
    {
      "cell_type": "markdown",
      "source": [
        "## ลำดับความสำคัญตัวดำเนินการ (Operator Precedence)"
      ],
      "metadata": {
        "id": "pxrKBIA8K2Bi"
      }
    },
    {
      "cell_type": "code",
      "source": [
        "#ex-3.29\n",
        "x = 10 + 4 / 2 * 9\n",
        "print (\"ผลลัพธ์ของ x = 10 + 4 / 2 * 9 คือ \", x)\n",
        "x = ((10 + 4) / 2) * 9\n",
        "print (\"ผลลัพธ์ของ ((10 + 4) / 2) * 9 คือ \", x)"
      ],
      "metadata": {
        "id": "AxRlqzoKK_qp",
        "colab": {
          "base_uri": "https://localhost:8080/"
        },
        "outputId": "9151b76d-1be7-4768-f8a7-00c5b9a107ed"
      },
      "execution_count": null,
      "outputs": [
        {
          "output_type": "stream",
          "name": "stdout",
          "text": [
            "ผลลัพธ์ของ x = 10 + 4 / 2 * 9 คือ  28.0\n",
            "ผลลัพธ์ของ ((10 + 4) / 2) * 9 คือ  63.0\n"
          ]
        }
      ]
    },
    {
      "cell_type": "markdown",
      "source": [
        "# **แบบฝึกหัด**\n",
        "\n",
        "\n",
        "1.   จงบอกชนิดข้อมูลจากการประกาศตัวแปรดังต่อไปนี้\n",
        "```\n",
        "money = 3464\n",
        "academy = \"RMUTSB\"\n",
        "num_s = \"3.241.2145\"\n",
        "flo_num = 3241.2145\n",
        "```\n",
        "---\n",
        "2. จงเขียนโปรแกรมคำนวณภาษีที่ต้องจ่าย โดยมีอัตราภาษีเท่ากับ 7% กำหนดให้ตัวแปรภาษีเป็นค่าคงที่ และให้ผู้ใช้งานป้อนผ่านทางคีย์บอร์ด\n",
        "---\n",
        "3. จงเขียนโปรแกรมคำนวณอายุ โดยให้ผู้ใช้งานป้อนข้อมูลผ่านทางคีย์บอร์ด โดยภายในคำสั่งโปรแกรมต้องมีการเรียกใช้ฟังก์ชันแปลงชนิดข้อมูลก่อนนำไปคำนวณ\n",
        "---\n",
        "4. จงเขียนคำสั่งโปรแกรมเพื่อหาคำตอบจากโจทย์ที่กำหนดให้\n",
        "```\n",
        "x = 456\n",
        "print(oct(x)) =\n",
        "print(hex(x)) =\n",
        "print(bin(x)) =\n",
        "```\n",
        "---\n",
        "5. จากนิพจน์ x =  125 + 315 / 3 + 5 * 2 + 15 * 4 จงหาผลลัพธ์ให้ x = 216.6666...\n",
        "---\n",
        "6. จากนิพจน์ x =  451 + 315 / 3 + 5 * 2 * 3 + 15 * 4 * 12 จงหาผลลัพธ์ให้ x = 1306\n",
        "---\n",
        "\n",
        "\n"
      ],
      "metadata": {
        "id": "n0yaKk_iLRCY"
      }
    },
    {
      "cell_type": "code",
      "source": [
        "#No.2\n",
        "\"\"\"\n",
        "จงเขียนโปรแกรมคำนวณภาษีที่ต้องจ่าย\n",
        "โดยมีอัตราภาษีเท่ากับ 7%\n",
        "กำหนดให้ตัวแปรภาษีเป็นค่าคงที่\n",
        "และให้ผู้ใช้งานป้อนผ่านทางคีย์บอร์ด\n",
        "\"\"\"\n",
        "vat = 0.07\n",
        "money=float(input(\"รับค่าจำนวนเงิน : \"))\n",
        "tax = money * vat\n",
        "print(\"ภาษี %.2f ของเงิน %.2f = %.2f\"%(vat,money,tax))"
      ],
      "metadata": {
        "colab": {
          "base_uri": "https://localhost:8080/",
          "height": 235
        },
        "id": "3XJGsxZshbca",
        "outputId": "c03a5d88-7561-4c10-fb1e-01da50219ac5"
      },
      "execution_count": null,
      "outputs": [
        {
          "name": "stdout",
          "output_type": "stream",
          "text": [
            "รับค่าจำนวนเงิน : 100\n"
          ]
        },
        {
          "output_type": "error",
          "ename": "TypeError",
          "evalue": "ignored",
          "traceback": [
            "\u001b[0;31m---------------------------------------------------------------------------\u001b[0m",
            "\u001b[0;31mTypeError\u001b[0m                                 Traceback (most recent call last)",
            "\u001b[0;32m<ipython-input-23-40cc2955b626>\u001b[0m in \u001b[0;36m<module>\u001b[0;34m\u001b[0m\n\u001b[1;32m      8\u001b[0m \u001b[0mvat\u001b[0m \u001b[0;34m=\u001b[0m \u001b[0;36m0.07\u001b[0m\u001b[0;34m\u001b[0m\u001b[0;34m\u001b[0m\u001b[0m\n\u001b[1;32m      9\u001b[0m \u001b[0mmoney\u001b[0m\u001b[0;34m=\u001b[0m\u001b[0minput\u001b[0m\u001b[0;34m(\u001b[0m\u001b[0;34m\"รับค่าจำนวนเงิน : \"\u001b[0m\u001b[0;34m)\u001b[0m\u001b[0;34m\u001b[0m\u001b[0;34m\u001b[0m\u001b[0m\n\u001b[0;32m---> 10\u001b[0;31m \u001b[0mtax\u001b[0m \u001b[0;34m=\u001b[0m \u001b[0mmoney\u001b[0m \u001b[0;34m*\u001b[0m \u001b[0mvat\u001b[0m\u001b[0;34m\u001b[0m\u001b[0;34m\u001b[0m\u001b[0m\n\u001b[0m\u001b[1;32m     11\u001b[0m \u001b[0mprint\u001b[0m\u001b[0;34m(\u001b[0m\u001b[0;34m\"ภาษี %.2f ของเงิน %.2f = %.2f\"\u001b[0m\u001b[0;34m%\u001b[0m\u001b[0;34m(\u001b[0m\u001b[0mvat\u001b[0m\u001b[0;34m,\u001b[0m\u001b[0mmoney\u001b[0m\u001b[0;34m,\u001b[0m\u001b[0mtax\u001b[0m\u001b[0;34m)\u001b[0m\u001b[0;34m)\u001b[0m\u001b[0;34m\u001b[0m\u001b[0;34m\u001b[0m\u001b[0m\n",
            "\u001b[0;31mTypeError\u001b[0m: can't multiply sequence by non-int of type 'float'"
          ]
        }
      ]
    }
  ]
}