{
  "nbformat": 4,
  "nbformat_minor": 0,
  "metadata": {
    "colab": {
      "provenance": [],
      "collapsed_sections": [
        "oPgxkGRiEOe8",
        "mJnyziGmEOfD",
        "-FxzhjKUEOfI",
        "9DvDWPp2EOfM",
        "wEW68SCHEOfO",
        "yBImvNgwEOfR"
      ],
      "include_colab_link": true
    },
    "language_info": {
      "codemirror_mode": {
        "name": "ipython",
        "version": 3
      },
      "file_extension": ".py",
      "mimetype": "text/x-python",
      "name": "python",
      "nbconvert_exporter": "python",
      "pygments_lexer": "ipython3",
      "version": "3.7.0"
    },
    "kernelspec": {
      "display_name": "Python 3",
      "language": "python",
      "name": "python3"
    }
  },
  "cells": [
    {
      "cell_type": "markdown",
      "metadata": {
        "id": "view-in-github",
        "colab_type": "text"
      },
      "source": [
        "<a href=\"https://colab.research.google.com/github/rsurapol/2023-Programming/blob/2023-2/Week01.ipynb\" target=\"_parent\"><img src=\"https://colab.research.google.com/assets/colab-badge.svg\" alt=\"Open In Colab\"/></a>"
      ]
    },
    {
      "cell_type": "markdown",
      "metadata": {
        "id": "huiaJSq7EOet"
      },
      "source": [
        "# คอมพิวเตอร์และโปรแกรม\n",
        "\n",
        "> Computers and Programs\n",
        "\n",
        "ไม่เข้าใจ\n",
        "\n",
        "## จุดประสงค์\n",
        "\n",
        "1. เข้าใจการทำงานของโปรแกรมที่เขียนด้วยภาษา Python\n",
        "  * สร้าง Colab notebook ได้\n",
        "  * เขียนคำสั่งและ run บน Colab notebook ได้\n",
        "2. เขียนโปรแกรมเพื่อแสดงข้อความ \"สวัสดีชาวโลก\" ได้\n",
        "3. เขียนโปรแกรมเพื่อรับชื่อและแสดงข้อความ \"สวัสดีคุณชื่อ\" ได้"
      ]
    },
    {
      "cell_type": "code",
      "metadata": {
        "id": "Rk6pRk-HEZjz"
      },
      "source": [],
      "execution_count": null,
      "outputs": []
    },
    {
      "cell_type": "markdown",
      "metadata": {
        "id": "JqF3vSgREOet"
      },
      "source": [
        "## Computer Hardware\n",
        "![hardware](https://wichit2s.gitlab.io/python/_images/hardware.png)"
      ]
    },
    {
      "cell_type": "markdown",
      "metadata": {
        "id": "o2_wAxS9EOev"
      },
      "source": [
        "## Computer Software (Programs)\n",
        "\n",
        "### A. [แปลง] Compiled Programming Languages\n",
        "\n",
        "![compile-program](https://wichit2s.gitlab.io/python/_images/compiled-program.png)\n",
        "\n",
        "\n",
        "### ตัวอย่างภาษาโปรแกรมที่เป็นแบบ Compiled\n",
        "\n",
        "* C\n",
        "* C++\n",
        "* D\n",
        "* Go\n",
        "* Java\n",
        "* Swift\n",
        "* Rust"
      ]
    },
    {
      "cell_type": "markdown",
      "metadata": {
        "id": "mtpUpcQxEOew"
      },
      "source": [
        "### B. [แปล] Interpreted Program\n",
        "![interpreted-program](https://wichit2s.gitlab.io/python/_images/interpreted-program.png)\n",
        "\n",
        "### ตัวอย่างภาษาโปรแกรมที่เป็น interpreted\n",
        "* Python\n",
        "* TypeScript\n",
        "* JavaScript\n",
        "* PHP\n",
        "* R\n",
        "* Lisp"
      ]
    },
    {
      "cell_type": "markdown",
      "metadata": {
        "id": "QCSXkH1fEOex"
      },
      "source": [
        "### Top Programming Languages\n",
        "[top programming language 2019](https://www.codeplatoon.org/the-best-paying-and-most-in-demand-programming-languages-in-2019/)"
      ]
    },
    {
      "cell_type": "markdown",
      "metadata": {
        "id": "ay9FikYDEOey"
      },
      "source": [
        "## Top Programming Language by Joblistings\n",
        "\n",
        "[top programming by codingdojo 2019](https://www.codingdojo.com/blog/the-7-most-in-demand-programming-languages-of-2019)\n"
      ]
    },
    {
      "cell_type": "markdown",
      "metadata": {
        "id": "T1ByWZbBEOey"
      },
      "source": [
        "## เริ่มการเขียนคำสั่ง\n",
        "\n",
        "* คำสั่งสำหรับนำเข้าชุดคำสั่ง sys เพื่อเรียกใช้ฟังก์ชัน version เพื่อดูรายละเอียดของ Python\n",
        "```python\n",
        "import sys\n",
        "sys.version\n",
        "```"
      ]
    },
    {
      "cell_type": "code",
      "metadata": {
        "id": "FyYg7b6oEOez"
      },
      "source": [
        "import sys"
      ],
      "execution_count": null,
      "outputs": []
    },
    {
      "cell_type": "code",
      "metadata": {
        "id": "t2oycHFPLy1U",
        "colab": {
          "base_uri": "https://localhost:8080/",
          "height": 35
        },
        "outputId": "8b434c20-1cd3-4c15-ca35-d4bbb9fdd81c"
      },
      "source": [
        "sys.version"
      ],
      "execution_count": null,
      "outputs": [
        {
          "output_type": "execute_result",
          "data": {
            "text/plain": [
              "'3.6.9 (default, Apr 18 2020, 01:56:04) \\n[GCC 8.4.0]'"
            ]
          },
          "metadata": {
            "tags": []
          },
          "execution_count": 30
        }
      ]
    },
    {
      "cell_type": "markdown",
      "metadata": {
        "id": "TnLIREZyEOe2"
      },
      "source": [
        "* คำสั่งแสดงข้อความบนหน้าจอ\n",
        "```python\n",
        "print('ข้อความ')\n",
        "```\n",
        "\n",
        "* ตัวอย่างคำสั่งแสดงข้อความอื่นๆ\n",
        "```python\n",
        "print('Hello world')\n",
        "print(\"Hello world\")\n",
        "print('สวัสดีชาวโลก')\n",
        "print(\"สวัสดีชาวโลก\")\n",
        "```"
      ]
    },
    {
      "cell_type": "code",
      "metadata": {
        "id": "FnMMHod2EOe4",
        "colab": {
          "base_uri": "https://localhost:8080/",
          "height": 35
        },
        "outputId": "73fbb6d8-5a68-4ab6-b6c4-bb4ed1cbe781"
      },
      "source": [
        "print(\"We wish you a merry christmas.\")"
      ],
      "execution_count": null,
      "outputs": [
        {
          "output_type": "stream",
          "text": [
            "We wish you a merry christmas.\n"
          ],
          "name": "stdout"
        }
      ]
    },
    {
      "cell_type": "code",
      "metadata": {
        "id": "rsCzt_-WNSyz"
      },
      "source": [
        "print(\"เกิดเป็นโปรแกรมเมอร์\")"
      ],
      "execution_count": null,
      "outputs": []
    },
    {
      "cell_type": "markdown",
      "metadata": {
        "id": "PBSUwwh1EOe6"
      },
      "source": [
        "* __Exercise 01.1__ จงเขียนคำสั่งเพื่อแสดงชื่อของตัวเอง เป็นภาษาไทย\n",
        "Write a command to print your fullname.\n",
        "\n",
        "* __Exercise 01.2__ จงเขียนคำสั่งเพื่อแสดงชื่อเล่น\n",
        "\n",
        "* __Exercise 01.3__ จงเขียนคำสั่งเพื่อแสดงชื่อของตัวเอง เป็นภาษาอังกฤษ\n",
        "\n",
        "* __Exercise 01.4__ ลองเขียนคำสั่งเพื่อแสดง email ของตัวเอง\n"
      ]
    },
    {
      "cell_type": "code",
      "metadata": {
        "id": "rkFO7CGtEOe7"
      },
      "source": [
        "print('Aaaaa')\n",
        "print('BBBB')"
      ],
      "execution_count": null,
      "outputs": []
    },
    {
      "cell_type": "code",
      "metadata": {
        "id": "cA0SkWJiQyUL"
      },
      "source": [
        "print('แบบที่ 1')\n",
        "print(\"2nd style\")\n",
        "print('''ข้อความอยู่ใน triple single quote''')\n",
        "print(\"\"\"ข้อความอยู่ใน triple double quote\"\"\")"
      ],
      "execution_count": null,
      "outputs": []
    },
    {
      "cell_type": "code",
      "metadata": {
        "id": "q8z_J1cvRQRb"
      },
      "source": [
        "print('''Once upon a time.\n",
        "There was a fox named.\n",
        "A wiz with white hat.\n",
        "''')"
      ],
      "execution_count": null,
      "outputs": []
    },
    {
      "cell_type": "markdown",
      "metadata": {
        "id": "oPgxkGRiEOe8"
      },
      "source": [
        "## การแสดงผลการคำนวณเบื้องต้น\n",
        "* คำสั่งแสดงผลบวก\n",
        "```python\n",
        "print(2+3)\n",
        "```\n",
        "* คำสั่งแสดงผลลบ\n",
        "```python\n",
        "print(2561-543)\n",
        "```\n",
        "* คำสั่งแสดงผลคูณ\n",
        "```python\n",
        "print(9*1024)\n",
        "```\n",
        "* คำสั่งแสดงผลหาร\n",
        "```python\n",
        "print(1024/7)\n",
        "```\n",
        "* คำสั่งแสดงผลยกกำลัง\n",
        "```python\n",
        "print(10**2)\n",
        "print(2**10)\n",
        "```\n",
        "* คำสั่งแสดงผลค่ารากที่สองตัวเลข\n",
        "```python\n",
        "print(100**0.5)\n",
        "```\n",
        "* คำสั่งแสดงผลของสมการที่ซับซ้อนขึ้น\n",
        "```python\n",
        "print( (2*3 + 3*3 + 1*3 + 2*3 + 2*3)/(3+3+3+3) )\n",
        "```"
      ]
    },
    {
      "cell_type": "code",
      "metadata": {
        "id": "vu9aKwiIEOe9"
      },
      "source": [
        "print( 12.31**100 )"
      ],
      "execution_count": null,
      "outputs": []
    },
    {
      "cell_type": "markdown",
      "metadata": {
        "id": "WnzOFMqQEOfA"
      },
      "source": [
        "* __Exercise 01.5__ จงเขียนคำสั่งเพื่อแสดงผลลัพธ์ของสมการต่อไปนี้\n",
        "\n",
        "    - $2^3 + 9 \\times 7$\n",
        "\n",
        "    - $\\frac{1}{2} + \\frac{1}{3} + \\frac{1}{4} + \\frac{1}{5}$\n",
        "    \n",
        "    - $\\sqrt{3^2 - 4\\times 1 \\times 2}$\n",
        "\n",
        "    - $\\frac{\\sqrt{4\\times 3 \\times 7}}{2 \\times 3}$\n",
        "    "
      ]
    },
    {
      "cell_type": "code",
      "metadata": {
        "id": "ZL9mQqZvEOfB"
      },
      "source": [
        "print(2**3 + 9*7)"
      ],
      "execution_count": null,
      "outputs": []
    },
    {
      "cell_type": "code",
      "metadata": {
        "id": "U9MEwxUpTdqh"
      },
      "source": [
        "print(1/2 + 1/3 + 1/4 + 1/5)"
      ],
      "execution_count": null,
      "outputs": []
    },
    {
      "cell_type": "code",
      "metadata": {
        "id": "PaMK5B4aWz9T",
        "colab": {
          "base_uri": "https://localhost:8080/",
          "height": 70
        },
        "outputId": "359fdaaa-dd39-427e-9ce8-43cf364a4fe1"
      },
      "source": [
        "print( (3**2-4*1*2)**0.5 )\n",
        "print( ((4*3*7)**0.5)/(2*3) )\n",
        "\n",
        "import math\n",
        "print( math.sqrt(100) )"
      ],
      "execution_count": null,
      "outputs": [
        {
          "output_type": "stream",
          "text": [
            "1.0\n",
            "1.5275252316519465\n",
            "10.0\n"
          ],
          "name": "stdout"
        }
      ]
    },
    {
      "cell_type": "markdown",
      "metadata": {
        "id": "mJnyziGmEOfD"
      },
      "source": [
        "## การแสดงข้อความร่วมกับตัวเลข\n",
        "```python\n",
        "print('ผลลัพธ์ ', 2**20)\n",
        "print('สวัสดีคุณ', 'พอล')\n",
        "print('สวัสดีคุณ'+'พอล')\n",
        "print('สวัสดีคุณ'+str(2**20))\n",
        "```\n",
        "\n",
        "Note: `str()` แปลงค่าให้เป็นข้อความ"
      ]
    },
    {
      "cell_type": "code",
      "metadata": {
        "id": "Bxf62RJWEOfE"
      },
      "source": [
        "print('You are ', 2563-2550, ' years old.')"
      ],
      "execution_count": null,
      "outputs": []
    },
    {
      "cell_type": "code",
      "metadata": {
        "id": "awV0ut6GYgdK"
      },
      "source": [
        "print('You are '+str(2563-2550)+' years old.')"
      ],
      "execution_count": null,
      "outputs": []
    },
    {
      "cell_type": "markdown",
      "metadata": {
        "id": "-FxzhjKUEOfI"
      },
      "source": [
        "## การรวมหลายคำสั่งเป็นฟังก์ชัน\n",
        "1. (ให้นิยาม) กำหนดชื่อและการทำงานของฟังก์ชัน\n",
        "```python\n",
        "def hello():\n",
        "    print('Hello world')\n",
        "    print(\"Hello world\")\n",
        "    print('สวัสดีชาวโลก')\n",
        "    print(\"สวัสดีชาวโลก\")\n",
        "```\n",
        "2. (เรียกใช้ฟังก์ชัน) คำสั่งเรียกใช้\n",
        "```python\n",
        "hello()\n",
        "```\n",
        "3. ตัวอย่างฟังก์ชัน\n",
        "```python\n",
        "def print9():\n",
        "    print(' 9x1 =  9')\n",
        "    print(' 9x2 = 18')\n",
        "    print(' 9x3 = 27')\n",
        "    print(' 9x4 = 36')\n",
        "    print(' 9x5 = '+str(9*5))\n",
        "    print(' 9x6 = ', 9*6)\n",
        "```\n",
        "\n",
        "\n",
        "* __Exercise 01.6__ จงเขียนฟังก์ชันแสดงสูตรคูณแม่ต่างๆ พร้อมเรียกใช้\n",
        "    * สูตรคูณแม่ 4\n",
        "    * สูตรคูณแม่ 7\n",
        "    * สูตรคูณแม่ 12"
      ]
    },
    {
      "cell_type": "code",
      "metadata": {
        "id": "YRDqzCwMEOfI"
      },
      "source": [
        "def printABC():\n",
        "  print('A')\n",
        "  print('B')\n",
        "  print('C')"
      ],
      "execution_count": null,
      "outputs": []
    },
    {
      "cell_type": "code",
      "metadata": {
        "id": "kOPWbJr_c2q0",
        "colab": {
          "base_uri": "https://localhost:8080/",
          "height": 70
        },
        "outputId": "29bf443c-0c37-49f8-c398-0f4e0145cf34"
      },
      "source": [
        "printABC()"
      ],
      "execution_count": null,
      "outputs": [
        {
          "output_type": "stream",
          "text": [
            "A\n",
            "B\n",
            "C\n"
          ],
          "name": "stdout"
        }
      ]
    },
    {
      "cell_type": "markdown",
      "metadata": {
        "id": "9DvDWPp2EOfM"
      },
      "source": [
        "## การเรียกใช้ฟังก์ชันที่มาพร้อมกับ Python interpreter (Built-in Functions)\n",
        "> ฟังก์ชันที่เรียกใช้ได้เลย\n",
        "> [รายชื่อ built-in functions ทั้งหมด](https://docs.python.org/3/library/functions.html)\n",
        "\n",
        "1. กลุ่มฟังก์ชันแปลงชนิดข้อมูล\n",
        "```python\n",
        "bin(8)         # แปลงตัวเลขเป็นเลขฐานสอง\n",
        "bool(1)        # แปลงเป็นค่าเท็จจริง True, False\n",
        "chr(3585)      # แปลงตัวเลขเป็นตัวอักขระ\n",
        "float('3.55')  # แปลงเป็นเลขทศนิยม\n",
        "hex(20)        # แปลงเป็นเลขฐาน 16\n",
        "id(1)          # แปลงเป็นหมายเลขรหัส\n",
        "int(3.2)       # แปลงเป็นจำนวนเต็ม\n",
        "oct(9)         # แปลงเป็นเลขฐาน 8\n",
        "ord('ก')       # แปลงอักขระเป็นจำนวนเต็ม\n",
        "str(619009499) # แปลงเป็นข้อความ\n",
        "```\n",
        "2. กลุ่มฟังก์ชันช่วยเหลือให้ข้อมูลแบบเป็นปัจจุบัน (interactive)\n",
        "```python\n",
        "dir()           # แสดงรายการฟังก์ชันที่สามารถเรียกใช้งานได้\n",
        "help()          # ขอความช่วยเหลือกับคำสั่งต่างๆ\n",
        "type('ข้อความ')   # แสดงชนิดของข้อมูล\n",
        "```\n",
        "3. กลุ่มฟังก์ชันสำหรับการประมวลผลอื่นๆ\n",
        "\n",
        " A. ฟังก์ชันนำเข้าข้อมูล - input -\n",
        "```python\n",
        "input()                 # ฟังก์ชันนำเข้าข้อความ (ให้ผู้ใช้กรอกจากคีย์บอร์ด)\n",
        "input('กรุณากรอกข้อมูล ')  # ฟังก์ชันนำเข้าข้อความพร้อมข้อความบอกผู้ใช้\n",
        "```\n",
        "\n",
        " B. ฟังก์ชันช่วยในการประมวลผล - process -\n",
        "```python\n",
        "format(  1234, '<15d')\n",
        "format('1234', '>15s')\n",
        "format(  1234, '^15d')\n",
        "min( [5,9,7,6,5,4] )\n",
        "max( [5,9,7,3,7,1] )\n",
        "len( [1,9,3,4,4] )\n",
        "open('test.txt', 'r')\n",
        "pow(2, 10)\n",
        "range(10)\n",
        "round(3.6)\n",
        "round(3.4)\n",
        "sorted( [1,9,3,4,4] )\n",
        "sum( [1,9,3,4,4] )\n",
        "```\n",
        "\n",
        " C. ฟังก์ชันแสดงข้อความ - output -\n",
        "```python\n",
        "print('ข้อความที่ต้องการให้ผู้ใช้เห็น')\n",
        "```\n"
      ]
    },
    {
      "cell_type": "code",
      "metadata": {
        "id": "BXR-FoklEOfM",
        "colab": {
          "base_uri": "https://localhost:8080/",
          "height": 35
        },
        "outputId": "cd92e8cc-76ab-4c97-9bda-e346521454c3"
      },
      "source": [
        "print( bin(13) )"
      ],
      "execution_count": null,
      "outputs": [
        {
          "output_type": "stream",
          "text": [
            "0b1101\n"
          ],
          "name": "stdout"
        }
      ]
    },
    {
      "cell_type": "code",
      "metadata": {
        "id": "lqBMZkRWelAL",
        "colab": {
          "base_uri": "https://localhost:8080/",
          "height": 70
        },
        "outputId": "500b926e-ddf2-479a-ef7b-a409c8b6e697"
      },
      "source": [
        "print( type('สวัสดีชาวโลก') )\n",
        "print( type(8) )\n",
        "print( type(3.99) )"
      ],
      "execution_count": null,
      "outputs": [
        {
          "output_type": "stream",
          "text": [
            "<class 'str'>\n",
            "<class 'int'>\n",
            "<class 'float'>\n"
          ],
          "name": "stdout"
        }
      ]
    },
    {
      "cell_type": "code",
      "metadata": {
        "id": "5ABpTnkRe_kg"
      },
      "source": [
        "from IPython.display import Image"
      ],
      "execution_count": null,
      "outputs": []
    },
    {
      "cell_type": "code",
      "metadata": {
        "id": "69DuBzUNfXHa",
        "colab": {
          "base_uri": "https://localhost:8080/",
          "height": 88
        },
        "outputId": "a5feb220-fa4c-4ab5-cd10-d7f772151a98"
      },
      "source": [
        "import sys\n",
        "print(sys.version)\n",
        "print(\"ผมอายุ \", 10+2, \"  ปี แต่เกิดปี 2563-(10+2)\")\n",
        "print(f'ผมอายุ {10+2} ปี') # python v.3.6.9+\n",
        "#w = input()\n",
        "#Image(url='https://picsum.photos/'+str(w))"
      ],
      "execution_count": null,
      "outputs": [
        {
          "output_type": "stream",
          "text": [
            "3.6.9 (default, Apr 18 2020, 01:56:04) \n",
            "[GCC 8.4.0]\n",
            "ผมอายุ  12   ปี แต่เกิดปี 2563-(10+2)\n",
            "ผมอายุ 12 ปี\n"
          ],
          "name": "stdout"
        }
      ]
    },
    {
      "cell_type": "code",
      "metadata": {
        "id": "OOUu27Tam3-r",
        "colab": {
          "base_uri": "https://localhost:8080/",
          "height": 88
        },
        "outputId": "0c6fbf95-7974-4380-c789-604277cf2bf7"
      },
      "source": [
        "x = input()\n",
        "age = int(x)\n",
        "gpa = float(x)\n",
        "print( type(x) )\n",
        "print( type(age) )\n",
        "print( type(gpa) )"
      ],
      "execution_count": null,
      "outputs": [
        {
          "output_type": "stream",
          "text": [
            "30\n",
            "<class 'str'>\n",
            "<class 'int'>\n",
            "<class 'float'>\n"
          ],
          "name": "stdout"
        }
      ]
    },
    {
      "cell_type": "code",
      "metadata": {
        "id": "OOQxQWCqnURA",
        "colab": {
          "base_uri": "https://localhost:8080/",
          "height": 52
        },
        "outputId": "7c93f623-d6b2-4ad9-a2b2-fc932c900503"
      },
      "source": [
        "x,y = eval(input())\n",
        "print( x**y )"
      ],
      "execution_count": null,
      "outputs": [
        {
          "output_type": "stream",
          "text": [
            "3,9\n",
            "19683\n"
          ],
          "name": "stdout"
        }
      ]
    },
    {
      "cell_type": "markdown",
      "metadata": {
        "id": "wEW68SCHEOfO"
      },
      "source": [
        "## การเก็บข้อความที่ผู้ใช้กรอกเพื่อใช้งาน\n",
        "\n",
        "* การนำเข้าข้อความที่ผู้ใช้กรอกเก็บไว้สำหรับอ้างอิงต่อไปโดยใช้ชื่อ x\n",
        "```python\n",
        "x = input()\n",
        "```\n",
        "\n",
        "* การแสดงค่าที่ x อ้างอิงถึง\n",
        "```python\n",
        "print(x)\n",
        "```\n",
        "\n",
        "* หลักเกณฑ์ในการตั้งชื่อตัวอ้างอิง (identifier)  บางคนเรียก ตัวแปร - variable\n",
        "  1. เป็นลำดับของตัวอักษรติดกันแต่ละอันสามารถใช้ a-z, A-Z, 0-9, _   โดยไม่จำกัดความยาว\n",
        "  2. ตัวแรกต้องไม่เป็นตัวเลข\n",
        "  3. ต้องไม่เป็น keywords (คำสงวน)\n",
        "  4. ต้องไม่เป็นค่า literals - ชุดของอักขระที่ Python สามารถแปลงเป็นค่าได้ทันที เช่น 'Paul'  342.0 เป็นต้น\n",
        "  \n",
        "* คำสงวน (keywords) ในภาษา Python มีอะไรบ้าง?\n",
        "    ```python\n",
        "    False      class      finally    is         return\n",
        "    None       continue   for        lambda     try\n",
        "    True       def        from       nonlocal   while\n",
        "    and        del        global     not        with\n",
        "    as         elif       if         or         yield\n",
        "    assert     else       import     pass\n",
        "    break      except     in         raise\n",
        "    ```\n",
        "\n",
        "\n",
        "* __Exercise 01.7__ ฝึกตั้งชื่อตัวอ้างอิงหรือตัวแปร\n",
        "    * ตัวแปรสำหรับเก็บชื่อผู้ใช้\n",
        "    * ตัวแปรสำหรับเก็บอายุผู้ใช้\n",
        "    * ตัวแปรสำหรับเก็บค่า x\n",
        "    * ตัวแปรสำหรับเก็บค่า y\n",
        "    * ตัวแปรสำหรับเก็บค่า z\n",
        "    * ตัวแปรสำหรับเก็บค่าปีเกิด\n",
        "    * ตัวแปรสำหรับเก็บค่าเกรดเฉลี่ย\n",
        "    * ตัวแปรสำหรับเก็บค่าความสูงของระดับน้ำในแม่โขง\n",
        "    * ตัวแปรสำหรับเก็บค่าระยะทางจากวารินไปยังทุ่งศรีเมือง"
      ]
    },
    {
      "cell_type": "code",
      "metadata": {
        "id": "qgvUkz3hEOfP"
      },
      "source": [],
      "execution_count": null,
      "outputs": []
    },
    {
      "cell_type": "markdown",
      "metadata": {
        "id": "yBImvNgwEOfR"
      },
      "source": [
        "## การรับข้อความและแปลงเป็นค่าต่างๆ\n",
        "\n",
        "* การรับข้อความแล้วแปลงเป็นตัวเลข\n",
        "```python\n",
        "x = input()\n",
        "age = int(x)\n",
        "```\n",
        "\n",
        "* การรับข้อความแล้วแปลงเป็นตัวเลขโดยใช้คำสั่งซ้อนคำสั่ง\n",
        "```python\n",
        "age = int(input())\n",
        "```\n",
        "\n",
        "* การรับข้อความแล้วแปลงเป็นเลขทศนิยม\n",
        "```python\n",
        "x = input()\n",
        "gpa = float(x)\n",
        "```\n",
        "* การรับข้อความแล้วแปลงเป็นเลขทศนิยมโดยใช้คำสั่งซ้อนคำสั่ง\n",
        "```python\n",
        "gpa = float(input())\n",
        "```\n",
        "\n",
        "* __ตัวอย่าง__ การเขียนโปรแกรมเพื่อรับชื่อผู้ใช้\n",
        "```python\n",
        "name = input('ชื่ออะไรครับ? ')\n",
        "print('สวัสดีครับคุณ'+name)\n",
        "```\n",
        "\n",
        "* __ตัวอย่าง__ การเขียนโปรแกรมเพื่อรับชื่อผู้ใช้\n",
        "```python\n",
        "name = input('What is your name? ')\n",
        "print('Hello, '+name)\n",
        "```\n",
        "\n",
        "* __ตัวอย่าง__ การเขียนโปรแกรมเพื่อรับอายุผู้ใช้\n",
        "```python\n",
        "x = input('อายุเท่าไหร่? ')\n",
        "age = int(x)\n",
        "print('คุณอายุ '+str(age)+' ปี')\n",
        "```\n",
        "\n",
        "* __ตัวอย่าง__ การเขียนโปรแกรมเพื่อรับค่า x กับ y แล้วบอกผลบวก\n",
        "```python\n",
        "x = int(input('x = '))\n",
        "y = int(input('y = '))\n",
        "print(' x + y = '+str( x+y ))\n",
        "```"
      ]
    },
    {
      "cell_type": "code",
      "metadata": {
        "id": "po26VDj4EOfS"
      },
      "source": [],
      "execution_count": null,
      "outputs": []
    },
    {
      "cell_type": "markdown",
      "metadata": {
        "id": "ECf2-CQJEOfT"
      },
      "source": [
        "* __Exercise 01.7__ จงเขียนโปรแกรมเพื่อให้ทำงานตามโจทย์ต่อไปนี้\n",
        "\n",
        "    * จงเขียนโปรแกรมเพื่อรับค่า x กับ y แล้วบอกผลต่าง\n",
        "    \n",
        "    * จงเขียนโปรแกรมเพื่อรับค่า x กับ y แล้วบอกผลคูณ\n",
        "    \n",
        "    * จงเขียนโปรแกรมเพื่อรับค่า x กับ y แล้วบอกผลหาร\n",
        "    \n",
        "    * จงเขียนโปรแกรมเพื่อรับค่า x กับ y แล้วบอกผลลัพธ์เมื่อเอาค่า x ยกกำลัง y  $x^y$\n",
        "    \n",
        "    * จงเขียนโปรแกรมเพื่อรับค่าปี พ.ศ.เกิดของผู้ใช้ แล้วบอกอายุ\n",
        "    \n",
        "    * จงเขียนโปรแกรมเพื่อรับค่าปี พ.ศ.เกิดของผู้ใช้ แล้วบอกปีเกิดของผู้ใช้เป็น ค.ศ.\n",
        "    \n",
        "    * จงเขียนโปรแกรมเพื่อรับค่าเกรดเฉลี่ยของเทอมต้น และเกรดเฉลี่ยของเทอมปลาย แล้วบอกเกรดเฉลี่ยรวมในปีนั้น\n",
        "    "
      ]
    },
    {
      "cell_type": "code",
      "metadata": {
        "id": "liPIzRRHEOfV"
      },
      "source": [
        "type(age)"
      ],
      "execution_count": null,
      "outputs": []
    },
    {
      "cell_type": "code",
      "metadata": {
        "id": "ob_U1UE-I1TA"
      },
      "source": [
        "x = int(age)"
      ],
      "execution_count": null,
      "outputs": []
    },
    {
      "cell_type": "code",
      "metadata": {
        "id": "TkXLN_0mJC3X"
      },
      "source": [
        "y = float(x)\n",
        "type(y)"
      ],
      "execution_count": null,
      "outputs": []
    },
    {
      "cell_type": "code",
      "metadata": {
        "id": "aDNWHJctJ1h_"
      },
      "source": [
        "print(y)"
      ],
      "execution_count": null,
      "outputs": []
    },
    {
      "cell_type": "code",
      "metadata": {
        "id": "T4ybVElQKE1G"
      },
      "source": [
        "print(y**0.5)"
      ],
      "execution_count": null,
      "outputs": []
    },
    {
      "cell_type": "code",
      "metadata": {
        "id": "kBIGzs8fK1zD"
      },
      "source": [
        "print(x+y)\n",
        "print(x-y)\n",
        "print(x*y)\n",
        "print(x/y)\n",
        "print(x%y)\n",
        "print(x**y)"
      ],
      "execution_count": null,
      "outputs": []
    },
    {
      "cell_type": "code",
      "metadata": {
        "id": "qZADZgHLMjJc"
      },
      "source": [
        "nam = input('บอกซื่อข่อยแน่? ')"
      ],
      "execution_count": null,
      "outputs": []
    },
    {
      "cell_type": "code",
      "metadata": {
        "id": "vH40ip66M6d4"
      },
      "source": [
        "print(nam)"
      ],
      "execution_count": null,
      "outputs": []
    },
    {
      "cell_type": "code",
      "metadata": {
        "id": "h2o-taJPN-41"
      },
      "source": [
        "url = input('กรอกเว็บโปรด: ')"
      ],
      "execution_count": null,
      "outputs": []
    },
    {
      "cell_type": "code",
      "metadata": {
        "id": "dH35fG2nOaZ1"
      },
      "source": [
        "import IPython.display"
      ],
      "execution_count": null,
      "outputs": []
    },
    {
      "cell_type": "code",
      "metadata": {
        "id": "HOmXIiYVOtO2"
      },
      "source": [
        "IPython.display.HTML(url)"
      ],
      "execution_count": null,
      "outputs": []
    },
    {
      "cell_type": "code",
      "metadata": {
        "id": "9EjE5x6nOwwl"
      },
      "source": [
        "print( f'สวัสดี {nam} ปีนี้คุณอายุ {age} ปี' )"
      ],
      "execution_count": null,
      "outputs": []
    },
    {
      "cell_type": "code",
      "metadata": {
        "id": "VURXFKywSBgX"
      },
      "source": [
        "w = int( input('ความกว้าง: ') )"
      ],
      "execution_count": null,
      "outputs": []
    },
    {
      "cell_type": "code",
      "metadata": {
        "id": "n4HaEPVHSef-"
      },
      "source": [
        "h = int( input('ความสูง: '))"
      ],
      "execution_count": null,
      "outputs": []
    },
    {
      "cell_type": "code",
      "metadata": {
        "id": "rN2aIG-QSweo"
      },
      "source": [
        "imgurl = f'https://picsum.photos/{w}/{h}'\n",
        "print(imgurl)"
      ],
      "execution_count": null,
      "outputs": []
    },
    {
      "cell_type": "code",
      "metadata": {
        "id": "KXX3WriiS51W"
      },
      "source": [
        "IPython.display.Image(url=imgurl)"
      ],
      "execution_count": null,
      "outputs": []
    },
    {
      "cell_type": "code",
      "metadata": {
        "id": "nH2L4qCETF4N"
      },
      "source": [
        "x = 20\n",
        "y = 12\n",
        "z = 29"
      ],
      "execution_count": null,
      "outputs": []
    },
    {
      "cell_type": "code",
      "metadata": {
        "id": "MtGLhPsQZC3D"
      },
      "source": [
        "abs(x-y)"
      ],
      "execution_count": null,
      "outputs": []
    },
    {
      "cell_type": "code",
      "metadata": {
        "id": "IvHHD_ZFZdTK"
      },
      "source": [
        "abs(y-x)"
      ],
      "execution_count": null,
      "outputs": []
    }
  ]
}